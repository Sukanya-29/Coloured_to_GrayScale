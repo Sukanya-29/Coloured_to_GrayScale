{
  "nbformat": 4,
  "nbformat_minor": 0,
  "metadata": {
    "colab": {
      "provenance": [],
      "authorship_tag": "ABX9TyOblV8MdOY+GMhE/P/O+J/3",
      "include_colab_link": true
    },
    "kernelspec": {
      "name": "python3",
      "display_name": "Python 3"
    },
    "language_info": {
      "name": "python"
    }
  },
  "cells": [
    {
      "cell_type": "markdown",
      "metadata": {
        "id": "view-in-github",
        "colab_type": "text"
      },
      "source": [
        "<a href=\"https://colab.research.google.com/github/Sukanya-29/Coloured_to_GrayScale/blob/main/MiniProject_coloured_to_grayscale.ipynb\" target=\"_parent\"><img src=\"https://colab.research.google.com/assets/colab-badge.svg\" alt=\"Open In Colab\"/></a>"
      ]
    },
    {
      "cell_type": "code",
      "execution_count": 1,
      "metadata": {
        "colab": {
          "base_uri": "https://localhost:8080/"
        },
        "id": "RDrX3yV_Qx-b",
        "outputId": "e54a83e2-1fec-47cc-f61e-e49676ed8581"
      },
      "outputs": [
        {
          "output_type": "stream",
          "name": "stdout",
          "text": [
            "Requirement already satisfied: opencv-python in /usr/local/lib/python3.11/dist-packages (4.11.0.86)\n",
            "Requirement already satisfied: numpy>=1.21.2 in /usr/local/lib/python3.11/dist-packages (from opencv-python) (2.0.2)\n"
          ]
        }
      ],
      "source": [
        "pip install opencv-python"
      ]
    },
    {
      "cell_type": "code",
      "source": [
        "import cv2\n",
        "import os\n",
        "\n",
        "# Input and output directories\n",
        "input_folder = 'input_images'     # Folder containing original images\n",
        "output_folder = 'output_grayscale'  # Folder to save grayscale images\n",
        "\n",
        "# List all image files in the input folder\n",
        "image_files = sorted([f for f in os.listdir(input_folder) if f.lower().endswith(('.png', '.jpg', '.jpeg'))])[:100]\n",
        "\n",
        "os.makedirs(output_folder, exist_ok=True)\n",
        "\n",
        "for img_name in image_files:\n",
        "    # Construct full file path\n",
        "    img_path = os.path.join(input_folder, img_name)\n",
        "\n",
        "    # Read the image\n",
        "    img = cv2.imread(img_path)\n",
        "\n",
        "    # Convert to grayscale\n",
        "    gray_img = cv2.cvtColor(img, cv2.COLOR_BGR2GRAY)\n",
        "\n",
        "    # Save the grayscale image\n",
        "    output_path = os.path.join(output_folder, img_name)\n",
        "    cv2.imwrite(output_path, gray_img)\n",
        "\n",
        "print(\"Conversion completed successfully.\")\n"
      ],
      "metadata": {
        "id": "e3LjfJg_Q-lN",
        "colab": {
          "base_uri": "https://localhost:8080/"
        },
        "outputId": "70915c57-2181-44fc-f358-48c2bd6d113c"
      },
      "execution_count": 4,
      "outputs": [
        {
          "output_type": "stream",
          "name": "stdout",
          "text": [
            "Conversion completed successfully.\n"
          ]
        }
      ]
    },
    {
      "cell_type": "code",
      "source": [],
      "metadata": {
        "id": "EXbAueWnqxiz"
      },
      "execution_count": null,
      "outputs": []
    }
  ]
}